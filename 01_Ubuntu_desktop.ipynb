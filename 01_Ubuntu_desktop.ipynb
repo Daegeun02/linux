{
  "nbformat": 4,
  "nbformat_minor": 0,
  "metadata": {
    "colab": {
      "provenance": [],
      "collapsed_sections": [],
      "authorship_tag": "ABX9TyOT2eLVFzge1Wn9Jn0nHe0p",
      "include_colab_link": true
    },
    "kernelspec": {
      "name": "python3",
      "display_name": "Python 3"
    },
    "language_info": {
      "name": "python"
    }
  },
  "cells": [
    {
      "cell_type": "markdown",
      "metadata": {
        "id": "view-in-github",
        "colab_type": "text"
      },
      "source": [
        "<a href=\"https://colab.research.google.com/github/Daegeun02/linux/blob/main/01_Ubuntu_desktop.ipynb\" target=\"_parent\"><img src=\"https://colab.research.google.com/assets/colab-badge.svg\" alt=\"Open In Colab\"/></a>"
      ]
    },
    {
      "cell_type": "markdown",
      "source": [
        "# How to install Ubuntu on your desktop \n",
        "version: ubuntu 22.04"
      ],
      "metadata": {
        "id": "oH1ok0xVpiJF"
      }
    },
    {
      "cell_type": "markdown",
      "source": [
        "## Make install USB"
      ],
      "metadata": {
        "id": "YkwW9YA8poD3"
      }
    },
    {
      "cell_type": "markdown",
      "source": [
        "1. prepare empty usb (It has at least 8GB storage)\n",
        "\n",
        "2. go to [here](https://releases.ubuntu.com/22.04/)\n",
        "    * click __64-bit PC (AMD64) desktop image__a\n",
        "\n",
        "3. verify the Downloads\n",
        "    * \n",
        "```\n",
        "~ sudo sha256sum ~/Downloads/ubuntu-22.04-desktop-amd64.iso\n",
        "```\n",
        "    * if this command doesn't work, check your file name in Downloads folder.\n",
        "\n",
        "4. Burn the ISO image(굽기!)\n",
        "    * run __usb creator__\n",
        "    * 이미지 첨부 예정...\n",
        "\n",
        "5. Done\n",
        "\n",
        "> [reference](https://ubuntuhandbook.org/index.php/2022/04/usb-installer-ubuntu-22-04/)\n",
        "    "
      ],
      "metadata": {
        "id": "c9mRQCztpxw-"
      }
    },
    {
      "cell_type": "markdown",
      "source": [
        "## Installation"
      ],
      "metadata": {
        "id": "7oGwjwhDqFED"
      }
    },
    {
      "cell_type": "markdown",
      "source": [
        "1. Boot to Legacy BIOS Mode\n",
        "    * 전원 키고, f2 키 무한 연타...\n",
        "\n",
        "2. Change boot option\n",
        "    * click __boot__ on bios menu\n",
        "    * change sdd __boot-option #1__ to your usb\n",
        "\n",
        "\n",
        "> [reference](https://websetnet.net/ko/how-to-install-ubuntu-22-04-desktop-step-by-step-picture-guide/)"
      ],
      "metadata": {
        "id": "caVUxTsDr9rd"
      }
    },
    {
      "cell_type": "markdown",
      "source": [
        "## Disable GUI in ubuntu 22.04"
      ],
      "metadata": {
        "id": "KdxfKMDUcqe_"
      }
    },
    {
      "cell_type": "markdown",
      "source": [
        "1. install\n",
        "```\n",
        "~ sudo systemctl set-default multi-user\n",
        "```\n",
        "\n",
        "2. check \n",
        "```\n",
        "~ nvidia-smi\n",
        "```"
      ],
      "metadata": {
        "id": "QxJJ1M24cuyl"
      }
    },
    {
      "cell_type": "markdown",
      "source": [
        "## Add user on your ubuntu"
      ],
      "metadata": {
        "id": "P_0ssjLwqQhT"
      }
    },
    {
      "cell_type": "markdown",
      "source": [
        "> [reference](https://vitux.com/user-management-on-ubuntu/)"
      ],
      "metadata": {
        "id": "cz1NLyw6qTWH"
      }
    },
    {
      "cell_type": "code",
      "source": [],
      "metadata": {
        "id": "05g04FDoqX5X"
      },
      "execution_count": null,
      "outputs": []
    },
    {
      "cell_type": "markdown",
      "source": [
        "## Docker-Nvidia"
      ],
      "metadata": {
        "id": "NiaVOCUj8YGN"
      }
    },
    {
      "cell_type": "markdown",
      "source": [
        "반드시 위의 과정을 모두 수행한 후 진행해야 합니다. (Add user on ubuntu 제외)\n",
        "\n",
        "__설치 환경__\n",
        "1. Docker version: 20.10.5\n",
        "2. OS            : Ubuntu 22.04 / x86_64\n",
        "3. GPU           : RTX 3090\n",
        "4. Nvidia-driver : 515.65.01\n",
        "5. CUDA          : 11.7\n",
        "\n",
        "__요구 환경__\n",
        "1. Linux Kernel version > 3.10\n",
        "2. Docker version       > 19.03\n",
        "3. Nvidia GPU with Architecture >= Kepler\n",
        "4. Nvidia Linux driver > 418.81.07"
      ],
      "metadata": {
        "id": "KypMTZxM8Z49"
      }
    },
    {
      "cell_type": "markdown",
      "source": [
        "1. 저장소 및 GPG 키 설정\n",
        "```\n",
        "distribution=$(. /etc/os-release;echo $ID$VERSION_ID) \\\n",
        "      && curl -fsSL https://nvidia.github.io/libnvidia-container/gpgkey | sudo gpg --dearmor -o /usr/share/keyrings/nvidia-container-toolkit-keyring.gpg \\\n",
        "      && curl -s -L https://nvidia.github.io/libnvidia-container/$distribution/libnvidia-container.list | \\\n",
        "            sed 's#deb https://#deb [signed-by=/usr/share/keyrings/nvidia-container-toolkit-keyring.gpg] https://#g' | \\\n",
        "            sudo tee /etc/apt/sources.list.d/nvidia-container-toolkit.list\n",
        "```\n",
        "\n",
        "2. Install nvidia-docker2 package\n",
        "```\n",
        "~ sudo apt-get update\n",
        "~ sudo apt-get install -y nvidia-docker2\n",
        "```\n",
        "\n",
        "3. Restart Docker daemon\n",
        "```\n",
        "~ sudo systemctl restart docker\n",
        "```\n",
        "\n",
        "4. Check\n",
        "    * test by running a base CUDA. container\n",
        "    ```\n",
        "    ~ sudo docker run --rm --gpus all nvidia/[your cuda version]-base-ubuntu 22.04 nvidia-smi\n",
        "    ```\n",
        "\n",
        "> [reference](https://docs.nvidia.com/datacenter/cloud-native/container-toolkit/install-guide.html)"
      ],
      "metadata": {
        "id": "KC4XrGZ79xON"
      }
    },
    {
      "cell_type": "markdown",
      "source": [
        "### Docker run with GPU"
      ],
      "metadata": {
        "id": "uN3xiEbOAGrA"
      }
    },
    {
      "cell_type": "markdown",
      "source": [
        "1. by ```--gpus``` option\n",
        "    * run \n",
        "    ```\n",
        "    ~ docker run --rm --gpus all ubuntu:22.04 nvidia-smi\n",
        "    ```\n",
        "    * run with specific gpu\n",
        "    ```\n",
        "    ~ docker run --rm --gpus 0 all ubuntu:22.04 nvidia-smi\n",
        "\n",
        "2. by ```--runtime``` and env option ```-e NVIDIA_VISIBLE_DIVICES```\n",
        "    * run \n",
        "    ```\n",
        "    ~ docker run --rm --runtime=nvidia -e NVIDIA_VISIBLE_DIVICES=all ubuntu:22.04 nvidia-smi\n",
        "    ```\n",
        "    * run with specific gpu\n",
        "    ```\n",
        "    ~ docker run --rm --runtime=nvidia -e NVIDIA_VISIBLE_DIVICES=0 ubuntu22.04 nvidia-smi\n",
        "    ```\n",
        "\n",
        "> [reference](https://dongle94.github.io/docker/docker-nvidia-docker-install/)"
      ],
      "metadata": {
        "id": "zX_cxhLeAQAH"
      }
    },
    {
      "cell_type": "markdown",
      "source": [
        "enjoy!"
      ],
      "metadata": {
        "id": "yALb4TfXC3QT"
      }
    }
  ]
}