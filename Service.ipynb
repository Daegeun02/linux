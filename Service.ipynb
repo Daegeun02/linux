{
  "nbformat": 4,
  "nbformat_minor": 0,
  "metadata": {
    "colab": {
      "provenance": [],
      "collapsed_sections": [
        "JiLTdBUnrKRH",
        "-QxxCV7RvR7V",
        "xrviiDXutEPQ",
        "eyBPokpq21Mn",
        "vCuKYNVp3shD"
      ],
      "authorship_tag": "ABX9TyP8VgjXm7e4JhiRO3Kdinck",
      "include_colab_link": true
    },
    "kernelspec": {
      "name": "python3",
      "display_name": "Python 3"
    },
    "language_info": {
      "name": "python"
    }
  },
  "cells": [
    {
      "cell_type": "markdown",
      "metadata": {
        "id": "view-in-github",
        "colab_type": "text"
      },
      "source": [
        "<a href=\"https://colab.research.google.com/github/Daegeun02/linux/blob/main/Service.ipynb\" target=\"_parent\"><img src=\"https://colab.research.google.com/assets/colab-badge.svg\" alt=\"Open In Colab\"/></a>"
      ]
    },
    {
      "cell_type": "markdown",
      "source": [
        "# Service란? "
      ],
      "metadata": {
        "id": "DEVbgAq9q0EN"
      }
    },
    {
      "cell_type": "markdown",
      "source": [
        "Linux OS가 부팅되었을 때, 생성되면서 종료될 때까지 실행되는 Process및 설정 파일을 __service__ 라고 한다."
      ],
      "metadata": {
        "id": "BMlvTNEKq56s"
      }
    },
    {
      "cell_type": "markdown",
      "source": [
        "## Service 생성"
      ],
      "metadata": {
        "id": "JiLTdBUnrKRH"
      }
    },
    {
      "cell_type": "markdown",
      "source": [
        "Service는 ```/etc/systemd/system``` 경로에 존재한다. 이 경로에 있는 service 들은 systemd에 의해 관리되고 있는 service라는 뜻이다."
      ],
      "metadata": {
        "id": "U-uWylFprPPZ"
      }
    },
    {
      "cell_type": "markdown",
      "source": [
        "Ex>\n",
        "\n",
        "```\n",
        "nvim /etc/systemd/system/test.service\n",
        "```"
      ],
      "metadata": {
        "id": "N8VumK_erxdL"
      }
    },
    {
      "cell_type": "markdown",
      "source": [
        "## Service 파일 속성"
      ],
      "metadata": {
        "id": "yueOLHvsr9T5"
      }
    },
    {
      "cell_type": "markdown",
      "source": [
        "Service 파일은 [Unit], [Service], [Install] 의 색션으로 구성되어 있다. \n",
        "전부 다 알아보긴 힘드니까 필요한 것  몇 개만 알아보고, 조금씩 채워나가 보자!"
      ],
      "metadata": {
        "id": "h4ZTWd9csFFb"
      }
    },
    {
      "cell_type": "markdown",
      "source": [
        "### Unit"
      ],
      "metadata": {
        "id": "-QxxCV7RvR7V"
      }
    },
    {
      "cell_type": "markdown",
      "source": [
        "1.   Description\n",
        "    * 해당 Service 유닛에 대한 설명\n",
        "2.   Requires\n",
        "    * 상위 의존성을 구성한다.\n",
        "    * 이 목록에 명시된 유닛이 정상적으로 동작할 경우에만 이 유닛을 시작한다.\n",
        "3.   RequiresOverridable\n",
        "    * Requires와 유사하하다.\n",
        "    * 상위 의존성 유닛 구동에 실패하더라도 이를 무시하고 시작한다.\n",
        "\n",
        "4.   Requisite\n",
        "    * Requires와 유사하다.\n",
        "    * 상위 의존성 유닛이 시작되지 않으면, 바로 실패를 반환한다.\n",
        "\n",
        "5.   Wants\n",
        "    * Requires의 완화된 버전\n",
        "    * 목록에 포함된 유닛이 시작되지 않아도, 시작된다.\n",
        "\n",
        "6.   Conflicts\n",
        "    * 베타적 관계를 설정한다.\n",
        "    * 만일 '유닛1'의 \"Conflicts=\" 설정이 '유닛2'로 되어있다면, '유닛1'이 시작된 경우 '유닛2'가 중지되고, '유닛1'이 중지된 경우 '유닛2'가 시작한다. 이 옵션은 \"After=\"와 \"Before=\" 옵션과는 독립적으로 작동한다.\n",
        "\n",
        "7.   Before\n",
        "    * 유닛 시작 전 관계를 설정한다.\n",
        "    * Requires 설정과는 독립적이다.\n",
        "    * 이 옵션에 나열된 유닛이 시작되기 전에 이 유닛이 시작된다.\n",
        "\n",
        "8.   After\n",
        "    * 유닛 시작 후 관계를 설정한다.\n",
        "    * Requires 설정과는 독립적이다.\n",
        "    * 이 옵션에 나열된 유닛이 시작하고나서 이 유닛이 시작된다.\n",
        "\n",
        "9.   OnFailure\n",
        "    * 해당 유닛이 실패상태가 되면 수행할 유닛 목록을 지정한다.\n"
      ],
      "metadata": {
        "id": "g9_vQnDysVU_"
      }
    },
    {
      "cell_type": "markdown",
      "source": [
        "### Service"
      ],
      "metadata": {
        "id": "xrviiDXutEPQ"
      }
    },
    {
      "cell_type": "markdown",
      "source": [
        "1. Type\n",
        "    * 유닛의 타입을 선언한다.\n",
        "    - 1) __simple__(default)\n",
        "        * 유닛이 시작된 경우 systemd는 즉시 유닛의 시작이 완료되었다고 판단한다.\n",
        "        * 다른 유닛과 통신하기 위해 소켓을 사용하는 경우 이 타입을 사용할 수 없다.\n",
        "\n",
        "    - 2) __forking__\n",
        "        * 자식 프로세스 생성이 완료되어야 systemd가 유닛의 시작이 완료되었다고 판단한다.\n",
        "        * 부모 프로세스를 추적할 수 있도록 PIDFile 옵션을 설정해주어야 한다.\n",
        "\n",
        "    - 3) __oneshot__\n",
        "        * simple과 유사하지만 단입 작업을 수행하는데 적합한 타입이다.\n",
        "        * 실행 후 해당 실행이 종료되더라도 RemainAfterExit=yes 설정을 통해 유닛을 활성와 상태로 간주할 수 있다.\n",
        "\n",
        "    - 4) __notify__\n",
        "        * simple과 동일하지만, 유닛이 시작되면 systemd에 시그널을 보낸다.\n",
        "        * 시그널의 내용은 libsystemd.daemon.so에 선언되어 있다.\n",
        "\n",
        "    - 5) __dbus__\n",
        "        * D-Bus에 지정된 BusName이 준비될 때가지 대기한다.\n",
        "        * D-Bus가 준비된 후에 윤시이 시작되었다고 간주한다.\n",
        "\n",
        "2. Environment\n",
        "    * 유닛에서 사용할 환경변수를 선언한다.\n",
        "    * 반드시 Exec 옵션보다 상단에 위치해야 한다(당연!).\n",
        "\n",
        "3. ExecStartPre\n",
        "    * 서비스 시작하기 전에 실행할 명령을 설정\n",
        "\n",
        "4. ExecStart\n",
        "    * 시작 명령을 정의한다.\n",
        "    * 실행 명령어는 반드시 절대 경로 또는 변수로 지정한다.\n",
        "    * 다중 명령어를 지원한다.\n",
        "    * Ex> \n",
        "    > ExecStart=\"command1\" <br>\n",
        "    > ExecStart=\"command2\" <br>\n",
        "    > ExecStart=\"command3\" <br>\n",
        "    or<br>\n",
        "    > ExecStart=\"command1; command2; command3\"\n",
        "\n",
        "5. ExecStartPost\n",
        "    * 서비스 종료 명령 이후에 실행할 명령을 설정\n",
        "\n",
        "6. ExecStop\n",
        "    * 중지 명령을 정의한다.\n",
        "    * 사용법은 ExecStart와 같다.\n",
        "    * 중지 방식은 KillMode 옵션에서 설정한다.\n",
        "\n",
        "7. ExecStopPost\n",
        "    * 서비스를 종료 명령 이후에 실행할 명령을 설정\n",
        "\n",
        "8. ExecReload\n",
        "    * 서비스가 reload 될때 필요한 명령어나 스크립트를 지정\n",
        "\n",
        "9. KillMode\n",
        "    * 중지 방법에 대해서 설정하는 옵션\n",
        "    - 1. __control-group__(default)\n",
        "        * 해당 유닛의 그룹까지 모두 중지시킨다.\n",
        "    - 2. __process__\n",
        "        * 해당 유닛만 중지시킨다.\n",
        "    - 3. __none__\n",
        "        * 아무 액션을 취하지 않는다.\n",
        "\n",
        "10. RestartSec\n",
        "    * 재시작 명령을 수행할때, 중지 이후 다시 시작하는데 대기하는 시간을 설정한다.\n",
        "    * 기본값은 100ms\n",
        "    * 각각 \"min\", \"s\", \"ms\" 단위로 설정된다.\n",
        "    * Restart 옵션이 있는 경우에만 적용된다.\n",
        "\n",
        "11. Restart\n",
        "    - 1. __no__(default)\n",
        "        * 유닛을 다시 시작하지 않는다.\n",
        "    - 2. __on-success__\n",
        "        * 유닛이 정상적으로 종료되었을 때만 재시작한다.\n",
        "    - 3. __on-failure__\n",
        "        * 유닛이 비정상적으로 종료되었을때 재시작한다.\n",
        "        * 타임 아웃값 내 응답이 없는 경우 등등 일때 재시작 하게 된다.\n",
        "    - 4. __on-watchdog__\n",
        "        * \"WatchdogSec=\"에 설정된 시간 내 응답이 없는 경우에만 재시작한다.\n",
        "    - 5. __on-abort__\n",
        "        * 지정되지 않은 리턴값을 받은 경우 재시작을 한다.\n",
        "    - 6. __always__\n",
        "        * 종료 상태 등과 무관하게 무조건 재시작한다.\n",
        "        * 사용자가 중지해도 시스템이 다시 띄우게 된다.\n",
        "\n",
        "12. WorkingDirectory\n",
        "    * 유닛의 작업 디렉토리를 지정한다.\n",
        "    * 별도의 지정이 없으면 root(\"/\") 디렉토리를 사용한다."
      ],
      "metadata": {
        "id": "srsq0pnOvebE"
      }
    },
    {
      "cell_type": "markdown",
      "source": [
        "### Install\n"
      ],
      "metadata": {
        "id": "eyBPokpq21Mn"
      }
    },
    {
      "cell_type": "markdown",
      "source": [
        "부팅 시에 Unit이 활성화나 비활성화를 위해 사용하는 명령어이다. 값이 default.target이면 링크 파일을 생성하지 않고, multi-user.target 이면 링크 파일을 생성한다."
      ],
      "metadata": {
        "id": "Q2q0M6kg7mtO"
      }
    },
    {
      "cell_type": "markdown",
      "source": [
        "1. Alias\n",
        "    * 유닛의 별칭을 지정한다.\n",
        "    * systemctl enable 명령어에 별칭을 사용할 수 있다.\n",
        "    * Alias는 유닛 파일의 확장자를 가지고 있어야 한다.\n",
        "    (Ex> .service, .socket, .mount, .swap 등)\n",
        "\n",
        "2. WantedBy\n",
        "    * systemctl enable 명령어로 유닛을 등록할 때 필요한 유닛을 지정한다.\n",
        "    * Unit 섹션의 Wants와 관련이 있다.\n",
        "\n",
        "3. RequiredBy\n",
        "    * systemctl enable 명령어로 유닛을 등록할 때 필요한 유닛을 지정한다.\n",
        "    * Unit 섹션의 Requires와 관련이 있다.\n",
        "\n",
        "4. Also\n",
        "    * systemctl enable/disable 명령어로 유닛을 등록하거나 해제할 때 다른 유닛도 함께 등록/해제 할 수 있게 만드는 설정이다."
      ],
      "metadata": {
        "id": "sHjrQco_28Ki"
      }
    },
    {
      "cell_type": "markdown",
      "source": [
        "## SystemCtl"
      ],
      "metadata": {
        "id": "vCuKYNVp3shD"
      }
    },
    {
      "cell_type": "markdown",
      "source": [
        "서비스 유닛 (.service)을 관리 및 제어하는 명령어이다. CentOS7 버전 부터 사용하는 명령어이며, 이전 버전에서는 Service 명령어로 사용이 가능하다. "
      ],
      "metadata": {
        "id": "9dejJgfk3wmz"
      }
    },
    {
      "cell_type": "markdown",
      "source": [
        "1. 시작\n",
        "    * ```systemctl start [servicename]```\n",
        "\n",
        "2. 종료\n",
        "    * ```systemctl stop [servicename]```\n",
        "3. 재시작\n",
        "    * ```systemctl restart [servicename]```\n",
        "4. 재시작 (시작된 서비스)\n",
        "    * ```systemctl try-restart [servicename]```\n",
        "5. 설정 Reload\n",
        "    * ```systemctl reload [servicename]```\n",
        "6. 상태 확인\n",
        "    * ```systemctl status [servicename]```\n",
        "7. 자동시작 활성화 (부팅시)\n",
        "    * ```systemctl enable [servicename]```\n",
        "8. 자동시작 비활성화 (부팅시)\n",
        "    * ```systemctl disable [servicename]```"
      ],
      "metadata": {
        "id": "LTvquvkE5OJB"
      }
    },
    {
      "cell_type": "markdown",
      "source": [
        "# Example"
      ],
      "metadata": {
        "id": "IIvAbB2t7ZxP"
      }
    },
    {
      "cell_type": "markdown",
      "source": [
        "```\n",
        "~ cd /etc/systemd/system\n",
        "~ sudo nvim example.service\n",
        "```"
      ],
      "metadata": {
        "id": "oGKHL3bf73oA"
      }
    },
    {
      "cell_type": "markdown",
      "source": [
        "example.service (Shell file must be in ```/usr/local/bin``` directory)\n",
        "```\n",
        "[Unit]\n",
        "Description=Example service\n",
        "\n",
        "[Service]\n",
        "Type=simple\n",
        "WorkingDirectory=/usr/local/bin\n",
        "ExecStart=example.sh\n",
        "\n",
        "[Install]\n",
        "WantedBy=default.target\n",
        "```"
      ],
      "metadata": {
        "id": "VRTbpCDV9mLD"
      }
    },
    {
      "cell_type": "markdown",
      "source": [
        "```\n",
        "~ sudo systemctl start [yourservicename]\n",
        "~ sudo systemctl enable [yourservicename]\n",
        "~ sudo reboot -p\n",
        "```"
      ],
      "metadata": {
        "id": "ZaHA9N5692LU"
      }
    },
    {
      "cell_type": "markdown",
      "source": [
        "example.sh과 같은 .sh 파일 작성에 대해서는 __shell.ipynb__ 참고하시면 됩니다."
      ],
      "metadata": {
        "id": "RlS8KtXf97US"
      }
    }
  ]
}