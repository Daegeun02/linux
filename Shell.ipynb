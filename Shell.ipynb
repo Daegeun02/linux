{
  "nbformat": 4,
  "nbformat_minor": 0,
  "metadata": {
    "colab": {
      "provenance": [],
      "collapsed_sections": [
        "FPId2d0ECN2N"
      ],
      "authorship_tag": "ABX9TyM/l3J3Tqu02QJ1TvE3AXeG",
      "include_colab_link": true
    },
    "kernelspec": {
      "name": "python3",
      "display_name": "Python 3"
    },
    "language_info": {
      "name": "python"
    }
  },
  "cells": [
    {
      "cell_type": "markdown",
      "metadata": {
        "id": "view-in-github",
        "colab_type": "text"
      },
      "source": [
        "<a href=\"https://colab.research.google.com/github/Daegeun02/linux/blob/main/Shell.ipynb\" target=\"_parent\"><img src=\"https://colab.research.google.com/assets/colab-badge.svg\" alt=\"Open In Colab\"/></a>"
      ]
    },
    {
      "cell_type": "markdown",
      "source": [
        "# Shell 이란?"
      ],
      "metadata": {
        "id": "MLcGo-Es-uiU"
      }
    },
    {
      "cell_type": "markdown",
      "source": [
        "Shell은 운영체제 상에서 사용자가 입력하는 명령을 읽고 해석하여 대신 실행해주는 프로그램입니다. 즉, 다시말해서, 운영체제의 커널과 사용자 사이를 이어주는 역할을 하며 사용자의 명령어를 해석하고 운영체제가 알아들을 수 있도록 도와주는 명령어 해석기입니다. "
      ],
      "metadata": {
        "id": "l7vbaUy7_A0v"
      }
    },
    {
      "cell_type": "markdown",
      "source": [
        "Linux에서 사용하는 Shell의 종류로는 다음과 같은 것들이 있습니다.\n",
        "\n",
        "* bash: Bourne-Again Shell\n",
        "    * prompt: #\n",
        "    * route: ```/bin/bash```\n",
        "    * 가장 대표적으로 사용합니다.\n",
        "\n",
        "* sh: Bourne Shell\n",
        "    * prompt: $\n",
        "    * route: ```/bin/sh```\n",
        "\n",
        "* csh: C Shell\n",
        "    * prompt: %\n",
        "    * route: ```/bin/csh```\n",
        "\n",
        "* ksh: Kron Shell\n",
        "    * prompt: $\n",
        "    * route: ```/bin/ksh```\n",
        "\n",
        "* tcsh: TENEX C Shell\n",
        "    * prompt: >\n",
        "    * route: ```/bin/tcsh```"
      ],
      "metadata": {
        "id": "Jl-JalqU_SPv"
      }
    },
    {
      "cell_type": "markdown",
      "source": [
        "## Shell Script 란?"
      ],
      "metadata": {
        "id": "0VQ7ad3TAKu2"
      }
    },
    {
      "cell_type": "markdown",
      "source": [
        "Shell Script란 Shell에서 사용할 수 있는 명령어들의 조합을 모아서 만든 배치(batch)파일입니다. 즉, 운영체제의 Shell을 이용하여 한줄씩 순차적으로 읽으면서 명령어들을 실행시켜주는 인터프리터 방식의 프로그램입니다. \n",
        "\n",
        "Shell Script를 활용하여 묶어진 명령어 조합을 수행하거나 반복적인 명령어를 단일 명령으로 쉽게 사용할 수 있습니다."
      ],
      "metadata": {
        "id": "eFM4TPHEAV0u"
      }
    },
    {
      "cell_type": "markdown",
      "source": [
        "## Shell Script 기본 구조"
      ],
      "metadata": {
        "id": "X1-RZY8fAs-w"
      }
    },
    {
      "cell_type": "markdown",
      "source": [
        "Shell Script 파일의 기본 구조는 다음과 같습니다.\n",
        "\n",
        "```\n",
        "#!/bin/bash\n",
        "echo \"Hello Linux!!\"\n",
        "```\n",
        "\n",
        "파일의 내용을 보면 첫 번째 줄에 ```#!/bin/bash``` 를 적어주었는데 이것은 Unix 계열 Shell Script 파일의 필수적인 구문입니다. Sharp(#) + band(!) 의 합성어로 Shebang이라고 칭하는데 ,Script 파일의 최상단에 해당 파일을 해석해 줄 인터프리터의 절대경로를 지정해주는 것입니다. 위의 예시는 bash를 Shell의 인터프리터로 지정한 것입니다.\n",
        "\n"
      ],
      "metadata": {
        "id": "9jgD7wTfA_JM"
      }
    },
    {
      "cell_type": "markdown",
      "source": [
        "### Example"
      ],
      "metadata": {
        "id": "FPId2d0ECN2N"
      }
    },
    {
      "cell_type": "markdown",
      "source": [
        "```\n",
        "~ cd any/directory/in/user/\n",
        "~ nvim example.sh\n",
        "```"
      ],
      "metadata": {
        "id": "DudT2it8CdrW"
      }
    },
    {
      "cell_type": "markdown",
      "source": [
        "hello.py\n",
        "```\n",
        "str = \"Hello Linux!\"\n",
        "print(str)\n",
        "```"
      ],
      "metadata": {
        "id": "CpN68d3wC8iP"
      }
    },
    {
      "cell_type": "markdown",
      "source": [
        "example.sh\n",
        "```\n",
        "#!/bin/bash\n",
        "python3 hello.py\n",
        "```"
      ],
      "metadata": {
        "id": "REK-Id4RCnZZ"
      }
    },
    {
      "cell_type": "markdown",
      "source": [
        "```\n",
        "~ sudo chmod 755 example.sh\n",
        "~ ./example.sh\n",
        "```"
      ],
      "metadata": {
        "id": "6A_1snGOC8CX"
      }
    },
    {
      "cell_type": "markdown",
      "source": [
        "## Shell Script 기본 문법"
      ],
      "metadata": {
        "id": "cGe4VkbXDOm-"
      }
    },
    {
      "cell_type": "markdown",
      "source": [
        "1. 출력 명령어\n",
        "    * ehco\n",
        "        * ```echo \"Echo command\"```\n",
        "    * printf\n",
        "        * ```printf \"printf command\"```\n",
        "\n",
        "2. 변수 \n",
        "    * defination: =\n",
        "        * ```num = 100```\n",
        "    * call: \n",
        "        * \"$[variablename]\" \n",
        "        ```\n",
        "        echo \"$num\"\n",
        "        ```\n",
        "\n",
        "        * \"${[variablename]}\"\n",
        "        ```\n",
        "        echo \"${num}\"\n",
        "        ```\n",
        "\n",
        "3. 배열(array)\n",
        "    * defination: (ele1 ele2 ...)\n",
        "        * ``` arr = (\"ab\" \"de\" \"ef\")```\n",
        "    * call: Index\n",
        "        * ```echo \"${arr[0]}\"```\n",
        "    * append: +=\n",
        "        * ```arr+=(\"gh\")```\n",
        "\n",
        "4. if 문\n",
        "    * usage: if[조건]; then ... elif[조건]; then ... else ... fi\n",
        "\n",
        "5. 반복문\n",
        "    * usage: ..."
      ],
      "metadata": {
        "id": "lj1LANfYDSpI"
      }
    }
  ]
}