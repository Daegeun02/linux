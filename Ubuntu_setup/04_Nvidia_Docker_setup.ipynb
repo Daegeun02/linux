{
  "nbformat": 4,
  "nbformat_minor": 0,
  "metadata": {
    "colab": {
      "provenance": [],
      "collapsed_sections": [],
      "authorship_tag": "ABX9TyO7onCyprpHoSHx+wnRrLr1",
      "include_colab_link": true
    },
    "kernelspec": {
      "name": "python3",
      "display_name": "Python 3"
    },
    "language_info": {
      "name": "python"
    }
  },
  "cells": [
    {
      "cell_type": "markdown",
      "metadata": {
        "id": "view-in-github",
        "colab_type": "text"
      },
      "source": [
        "<a href=\"https://colab.research.google.com/github/Daegeun02/linux/blob/main/Ubuntu_setup/04_Nvidia_Docker_setup.ipynb\" target=\"_parent\"><img src=\"https://colab.research.google.com/assets/colab-badge.svg\" alt=\"Open In Colab\"/></a>"
      ]
    },
    {
      "cell_type": "markdown",
      "source": [
        "# Nvidia-Docker"
      ],
      "metadata": {
        "id": "5Sz4dLN6hiX5"
      }
    },
    {
      "cell_type": "markdown",
      "source": [
        "앞선 .ipynb 들을 성공적으로 실행하였다면, 아래 환경은 만족하게 됩니다. \n",
        "\n",
        "__설치 환경__\n",
        "1. Docker version: 20.10.5\n",
        "2. OS            : Ubuntu 22.04 / x86_64\n",
        "3. GPU           : RTX 3090\n",
        "4. Nvidia-driver : 515.65.01\n",
        "5. CUDA          : 11.7\n",
        "\n",
        "__요구 환경__\n",
        "1. Linux Kernel version > 3.10\n",
        "2. Docker version       > 19.03\n",
        "3. Nvidia GPU with Architecture >= Kepler\n",
        "4. Nvidia Linux driver > 418.81.07"
      ],
      "metadata": {
        "id": "XoWsEFhGhpdy"
      }
    },
    {
      "cell_type": "markdown",
      "source": [
        "## Setting up NVIDIA Container Toolkit"
      ],
      "metadata": {
        "id": "lj55yeOFmeJg"
      }
    },
    {
      "cell_type": "markdown",
      "source": [
        "1. Setup the package repository and the GPG key\n",
        "```\n",
        "distribution=$(. /etc/os-release;echo $ID$VERSION_ID) && curl -fsSL https://nvidia.github.io/libnvidia-container/gpgkey | sudo gpg --dearmor -o /usr/share/keyrings/nvidia-container-toolkit-keyring.gpg && curl -s -L https://nvidia.github.io/libnvidia-container/$distribution/libnvidia-container.list | sed 's#deb https://#deb [signed-by=/usr/share/keyrings/nvidia-container-toolkit-keyring.gpg] https://#g' | sudo tee /etc/apt/sources.list.d/nvidia-container-toolkit.list\n",
        "```\n",
        "복사 붙여넣기 해주세요.\n",
        "\n",
        "2. Install the ```nvidia-docker2``` package\n",
        "``` \n",
        "~ sudo apt-get update\n",
        "~ sudo apt-get install -y nvidia-docker2\n",
        "```\n",
        "\n",
        "3. Restart the Docker daemon to complete the installation\n",
        "```\n",
        "~ sudo systemctl restart docker\n",
        "```\n",
        "\n",
        "4. Check\n",
        "```\n",
        "~ sudo docker run --rm --gpus all nvidia/cuda:[your cuda version]-base-ubuntu22.04 nvidia-smi\n",
        "```\n",
        "\n",
        "> [reference](https://docs.nvidia.com/datacenter/cloud-native/container-toolkit/install-guide.html)"
      ],
      "metadata": {
        "id": "_vq9SkWFmOJF"
      }
    },
    {
      "cell_type": "markdown",
      "source": [
        "## Jupyterhub"
      ],
      "metadata": {
        "id": "1j3-KlnApkx2"
      }
    },
    {
      "cell_type": "code",
      "source": [],
      "metadata": {
        "id": "o-qJ5Np-pmdX"
      },
      "execution_count": null,
      "outputs": []
    }
  ]
}