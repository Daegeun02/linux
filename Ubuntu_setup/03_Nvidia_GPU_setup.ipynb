{
  "nbformat": 4,
  "nbformat_minor": 0,
  "metadata": {
    "colab": {
      "provenance": [],
      "collapsed_sections": [],
      "authorship_tag": "ABX9TyPAb2B1zIooe8aZptG/fn66",
      "include_colab_link": true
    },
    "kernelspec": {
      "name": "python3",
      "display_name": "Python 3"
    },
    "language_info": {
      "name": "python"
    }
  },
  "cells": [
    {
      "cell_type": "markdown",
      "metadata": {
        "id": "view-in-github",
        "colab_type": "text"
      },
      "source": [
        "<a href=\"https://colab.research.google.com/github/Daegeun02/linux/blob/main/Ubuntu_setup/03_Nvidia_GPU_setup.ipynb\" target=\"_parent\"><img src=\"https://colab.research.google.com/assets/colab-badge.svg\" alt=\"Open In Colab\"/></a>"
      ]
    },
    {
      "cell_type": "markdown",
      "source": [
        "# Nvidia GPU Driver"
      ],
      "metadata": {
        "id": "MzJiZfnQfPoZ"
      }
    },
    {
      "cell_type": "markdown",
      "source": [
        "## Installation"
      ],
      "metadata": {
        "id": "mR7BBigSfiVy"
      }
    },
    {
      "cell_type": "markdown",
      "source": [
        "1. Not recommanded\n",
        "    * ```~ sudo apt install nvidia-driver-515```\n",
        "\n",
        "2. Try this method (이 방법으로 설치해주세요.)\n",
        "    * ```~ ubuntu-drivers devices```\n",
        "    * find recommanded driver\n",
        "    * ```~ sudo apt install nvidia-driver-[recommanded version]```\n",
        "\n",
        "3. Check\n",
        "    * ```~ nvidia-smi```\n",
        "    \n",
        "이럼, 설치해야할 CUDA Toolkit version도 확인할 수 있습니다."
      ],
      "metadata": {
        "id": "fmy6ZKGdfooi"
      }
    },
    {
      "cell_type": "markdown",
      "source": [
        "# CUDA Toolkit"
      ],
      "metadata": {
        "id": "iiXoHdHrf_tp"
      }
    },
    {
      "cell_type": "markdown",
      "source": [
        "## Installation"
      ],
      "metadata": {
        "id": "n9KdDPDjgXlr"
      }
    },
    {
      "cell_type": "markdown",
      "source": [
        "It's little complicate"
      ],
      "metadata": {
        "id": "rwM0ngnJgZO-"
      }
    },
    {
      "cell_type": "markdown",
      "source": [
        "1. Verify you have a CUDA-capable GPU\n",
        "    * ```~ lspci | grep -i nvidia```\n",
        "\n",
        "    * 대부분 CUDA 지원할 거에요.\n",
        "\n",
        "2. Verify you have a supported version of Linux\n",
        "    * ```~ uname -m && cat /etc/*release```\n",
        "\n",
        "    * __x86_64__이면 OK 에요.\n",
        "\n",
        "3. Verify the system has gcc installed\n",
        "    * ```~ gcc --version```\n",
        "\n",
        "    * ubuntu 22.04 기준 11.2 이상이어야 가능해요.\n",
        "\n",
        "4. Verify the system has the __Correct Kernel Headers__ and Development packages installed\n",
        "    * ```~ uname -r```\n",
        "    * 매우 중요해요.\n",
        "    * GPU한테 이제 일을 시킬 것이므로 CPU가 Kernel로 제어(정확하진 않지만.. 아마 scheduling)되는 것처럼 GPU도 Kernel에게 scheduling되어 process를 부여 받을 수 있도록 하기 위해선.. kernel version이 중요합니다. \n",
        "    * CUDA 공식문서에 적힌 바로는...\n",
        "    > It is best to manually ensure the correct version of the kernel headers and development packages are installed prior to installing the CUDA Drivers, as well as whenever you change the kernel version.\n",
        "    * 따라서 다음을 실행해주세요.\n",
        "    * ```~ sudo apt-get install linux-headers-$(uname -r)```\n",
        "\n",
        "5. Download the NVIDIA CUDA Toolkit\n",
        "    * go [here](https://developer.nvidia.com/cuda-11-7-0-download-archive)\n",
        "    * cuda version 11.7.0 기준이에요\n",
        "> 타 버전은 밑의 \"Resources\"에서 \"Archive of Previous CUDA Releases\" 클릭 후 맞는 버전 선택하세요\n",
        "    * CUDA Version을 모르겠다면..\n",
        "> ```~ nvidia-smi``` 명령어를 통해 \"CUDA Version\" 확인 가능해요\n",
        "    * 홈페이지에서 차례로 선택하여 주세요<br>\n",
        "        1) Operating System: Linux<br>\n",
        "        2) Architecture: x86_64<br>\n",
        "        3) Distribution: Ubuntu<br>\n",
        "        4) Version: 22.04<br>\n",
        "        5) Installer Type: deb(local)<br>\n",
        "    * 아래의 \"Base Installer\" 명령어를 차례로 실행합니다. (아래는 CUDA Version 11.7.0의 예시이에요.)\n",
        "    * ```~ wget https://developer.download.nvidia.com/compute/cuda/repos/ubuntu2204/x86_64/cuda-ubuntu2204.pin```\n",
        "    * ```~ sudo mv cuda-ubuntu2204.pin /etc/apt/preferences.d/cuda-repository-pin-600```\n",
        "    * ```~ wget https://developer.download.nvidia.com/compute/cuda/11.7.0/local_installers/cuda-repo-ubuntu2204-11-7-local_11.7.0-515.43.04-1_amd64.deb```\n",
        "    * ```~ sudo dpkg -i cuda-repo-ubuntu2204-11-7-local_11.7.0-515.43.04-1_amd64.deb```\n",
        "    * ```~ sudo sudo cp /var/cuda-repo-ubuntu2204-11-7-local/cuda-46B62B5F-keyring.gpg /usr/share/keyrings/```\n",
        "    * ```~ sudo apt-get update```\n",
        "    * ```~ sudo apt-get -y install cuda```\n",
        "\n",
        "6. reboot\n",
        "    * ```~ sudo reboot```\n",
        "\n",
        "> [reference](https://docs.nvidia.com/cuda/cuda-installation-guide-linux/index.html)"
      ],
      "metadata": {
        "id": "-YjZtRtWgbfw"
      }
    },
    {
      "cell_type": "markdown",
      "source": [
        "## Post-installation actions"
      ],
      "metadata": {
        "id": "kH47Q1BCgeQ3"
      }
    },
    {
      "cell_type": "markdown",
      "source": [
        "### Mandatory Actions\n",
        "\n",
        "반드시 해야 되요!"
      ],
      "metadata": {
        "id": "n_KOQ6ZWgj9h"
      }
    },
    {
      "cell_type": "markdown",
      "source": [
        "1. Environment Setup\n",
        "    * CUDA command가 어디에 있는지 알려주어야 합니다.\n",
        "    * ```~ nvim ~/.bashrc```<br>\n",
        "bash 파일 마지막 줄에 다음을 추가해주세요.\n",
        "    * ```export PATH=/usr/local/cuda-[installed version]/bin${PATH:+:${PATH}}```<br>\n",
        "그리고 파일을 저장하고 나옵니다.\n",
        "    * ```~ source ~/.bashrc```\n",
        "    * ```~ nvcc --version```\n",
        "\n",
        "끝!!!\n",
        "\n",
        "> [reference](https://docs.nvidia.com/cuda/cuda-installation-guide-linux/index.html)"
      ],
      "metadata": {
        "id": "xjnQnZHXgnbq"
      }
    }
  ]
}