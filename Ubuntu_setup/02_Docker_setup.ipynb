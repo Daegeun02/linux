{
  "nbformat": 4,
  "nbformat_minor": 0,
  "metadata": {
    "colab": {
      "provenance": [],
      "collapsed_sections": [],
      "authorship_tag": "ABX9TyPLQs4b2HReeobZQnaMI1WU",
      "include_colab_link": true
    },
    "kernelspec": {
      "name": "python3",
      "display_name": "Python 3"
    },
    "language_info": {
      "name": "python"
    }
  },
  "cells": [
    {
      "cell_type": "markdown",
      "metadata": {
        "id": "view-in-github",
        "colab_type": "text"
      },
      "source": [
        "<a href=\"https://colab.research.google.com/github/Daegeun02/linux/blob/main/Ubuntu_setup/02_Docker_setup.ipynb\" target=\"_parent\"><img src=\"https://colab.research.google.com/assets/colab-badge.svg\" alt=\"Open In Colab\"/></a>"
      ]
    },
    {
      "cell_type": "markdown",
      "source": [
        "# Docker"
      ],
      "metadata": {
        "id": "QOAVwq_ueGD4"
      }
    },
    {
      "cell_type": "markdown",
      "source": [
        "## Installation"
      ],
      "metadata": {
        "id": "6ivtrLQbeNaK"
      }
    },
    {
      "cell_type": "markdown",
      "source": [
        "### __Docker__"
      ],
      "metadata": {
        "id": "T28SRb1EePBt"
      }
    },
    {
      "cell_type": "markdown",
      "source": [
        "1. run code\n",
        "```\n",
        "~ sudo curl -fsSL https://get.docker.com -o get-docker.sh\n",
        "~ sudo sh get-docker.sh\n",
        "```\n",
        "> Executing docker install script,<br>\n",
        "> commit: 7cae5f8b0decc17d6571f9f52eb840fbc13b2737\n",
        "\n",
        "2. install check\n",
        "```\n",
        "~ docker pull hello-world\n",
        "~ docker run hello-world\n",
        "```\n",
        "\n",
        "> [reference](https://docs.docker.com/engine/install/ubuntu/)"
      ],
      "metadata": {
        "id": "Ox2-1V4IeSYN"
      }
    },
    {
      "cell_type": "markdown",
      "source": [
        "### __Docker-Compose__"
      ],
      "metadata": {
        "id": "Oe5lyQ79et0q"
      }
    },
    {
      "cell_type": "markdown",
      "source": [
        "1. get install file\n",
        "\n",
        "    * click and go here [docker-compose](https://github.com/docker/compose/releases)\n",
        "    * for amd64(x86_64) cpu,<br>\n",
        "      download __docker-compose-linux-x86_64__\n",
        "      just click it\n",
        "\n",
        "2. install\n",
        "    * look [here](https://soyoung-new-challenge.tistory.com/73)\n",
        "    \n",
        "```\n",
        "~ sudo \n",
        "```\n",
        "\n",
        "> [reference](https://soyoung-new-challenge.tistory.com/73)"
      ],
      "metadata": {
        "id": "L8YUJIcXe2Jq"
      }
    }
  ]
}